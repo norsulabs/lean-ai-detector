{
 "cells": [],
 "metadata": {
  "kernelspec": {
   "display_name": "lean-ai-detector-dHhe6xZS-py3.12",
   "language": "python",
   "name": "python3"
  },
  "language_info": {
   "name": "python",
   "version": "3.12.3"
  }
 },
 "nbformat": 4,
 "nbformat_minor": 2
}
